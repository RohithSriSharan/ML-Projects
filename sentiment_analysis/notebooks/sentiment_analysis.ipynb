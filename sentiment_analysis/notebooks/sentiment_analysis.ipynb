{
 "cells": [
  {
   "cell_type": "code",
   "execution_count": 1,
   "id": "e1802f09",
   "metadata": {},
   "outputs": [],
   "source": [
    "import pandas as pd\n",
    "import numpy as np\n",
    "import tensorflow as tf\n",
    "import matplotlib.pyplot as plt\n",
    "import os\n"
   ]
  },
  {
   "cell_type": "code",
   "execution_count": 2,
   "id": "44dde152",
   "metadata": {},
   "outputs": [
    {
     "data": {
      "text/html": [
       "<div>\n",
       "<style scoped>\n",
       "    .dataframe tbody tr th:only-of-type {\n",
       "        vertical-align: middle;\n",
       "    }\n",
       "\n",
       "    .dataframe tbody tr th {\n",
       "        vertical-align: top;\n",
       "    }\n",
       "\n",
       "    .dataframe thead th {\n",
       "        text-align: right;\n",
       "    }\n",
       "</style>\n",
       "<table border=\"1\" class=\"dataframe\">\n",
       "  <thead>\n",
       "    <tr style=\"text-align: right;\">\n",
       "      <th></th>\n",
       "      <th>review</th>\n",
       "      <th>sentiment</th>\n",
       "    </tr>\n",
       "  </thead>\n",
       "  <tbody>\n",
       "    <tr>\n",
       "      <th>0</th>\n",
       "      <td>One of the other reviewers has mentioned that ...</td>\n",
       "      <td>positive</td>\n",
       "    </tr>\n",
       "    <tr>\n",
       "      <th>1</th>\n",
       "      <td>A wonderful little production. &lt;br /&gt;&lt;br /&gt;The...</td>\n",
       "      <td>positive</td>\n",
       "    </tr>\n",
       "    <tr>\n",
       "      <th>2</th>\n",
       "      <td>I thought this was a wonderful way to spend ti...</td>\n",
       "      <td>positive</td>\n",
       "    </tr>\n",
       "    <tr>\n",
       "      <th>3</th>\n",
       "      <td>Basically there's a family where a little boy ...</td>\n",
       "      <td>negative</td>\n",
       "    </tr>\n",
       "    <tr>\n",
       "      <th>4</th>\n",
       "      <td>Petter Mattei's \"Love in the Time of Money\" is...</td>\n",
       "      <td>positive</td>\n",
       "    </tr>\n",
       "  </tbody>\n",
       "</table>\n",
       "</div>"
      ],
      "text/plain": [
       "                                              review sentiment\n",
       "0  One of the other reviewers has mentioned that ...  positive\n",
       "1  A wonderful little production. <br /><br />The...  positive\n",
       "2  I thought this was a wonderful way to spend ti...  positive\n",
       "3  Basically there's a family where a little boy ...  negative\n",
       "4  Petter Mattei's \"Love in the Time of Money\" is...  positive"
      ]
     },
     "execution_count": 2,
     "metadata": {},
     "output_type": "execute_result"
    }
   ],
   "source": [
    "\n",
    "\n",
    "ROOT = os.path.abspath(os.path.join(os.getcwd(),\"..\"))\n",
    "\n",
    "Data_dir = os.path.join(ROOT,'data')\n",
    "\n",
    "file_path = os.path.join(Data_dir, \"IMDB Dataset.csv\")\n",
    "\n",
    "df = pd.read_csv(file_path)\n",
    "\n",
    "df.head()\n"
   ]
  },
  {
   "cell_type": "code",
   "execution_count": 3,
   "id": "81229b35",
   "metadata": {},
   "outputs": [
    {
     "data": {
      "text/plain": [
       "sentiment\n",
       "positive    25000\n",
       "negative    25000\n",
       "Name: count, dtype: int64"
      ]
     },
     "execution_count": 3,
     "metadata": {},
     "output_type": "execute_result"
    }
   ],
   "source": [
    "df['sentiment'].value_counts()"
   ]
  },
  {
   "cell_type": "code",
   "execution_count": 4,
   "id": "7a2bf106",
   "metadata": {},
   "outputs": [
    {
     "data": {
      "text/plain": [
       "review       0\n",
       "sentiment    0\n",
       "dtype: int64"
      ]
     },
     "execution_count": 4,
     "metadata": {},
     "output_type": "execute_result"
    }
   ],
   "source": [
    "df.isnull().sum()"
   ]
  },
  {
   "cell_type": "code",
   "execution_count": 5,
   "id": "20ea4722",
   "metadata": {},
   "outputs": [
    {
     "name": "stdout",
     "output_type": "stream",
     "text": [
      "Before dropping duplicates:  418\n",
      "After dropping duplicates:  0\n",
      "------------------------------------------------------\n",
      "Value counts after removing duplicated rows\n"
     ]
    },
    {
     "data": {
      "text/plain": [
       "sentiment\n",
       "positive    24884\n",
       "negative    24698\n",
       "Name: count, dtype: int64"
      ]
     },
     "execution_count": 5,
     "metadata": {},
     "output_type": "execute_result"
    }
   ],
   "source": [
    "print(f\"Before dropping duplicates: \",df.duplicated().sum())\n",
    "df.drop_duplicates(inplace=True)\n",
    "print(f\"After dropping duplicates: \",df.duplicated().sum())\n",
    "print(\"------------------------------------------------------\")\n",
    "print(\"Value counts after removing duplicated rows\")\n",
    "df['sentiment'].value_counts()"
   ]
  },
  {
   "cell_type": "markdown",
   "id": "f8f216a5",
   "metadata": {},
   "source": [
    "## Text Processing"
   ]
  },
  {
   "cell_type": "markdown",
   "id": "666e7c99",
   "metadata": {},
   "source": [
    "**1. Prepare Labels**\n",
    "  >Map  0 --> Negative, 1 --> Positive "
   ]
  },
  {
   "cell_type": "code",
   "execution_count": 6,
   "id": "e272ff1c",
   "metadata": {},
   "outputs": [],
   "source": [
    "label_map = {\"negative\":0, \"positive\":1}\n",
    "\n",
    "y = df['sentiment'].map(label_map).astype(\"int32\").values\n",
    "X = df['review'].astype('str').values"
   ]
  },
  {
   "cell_type": "markdown",
   "id": "ffeb05c6",
   "metadata": {},
   "source": [
    "**2. Split Data**\n",
    "\n",
    "1. Split data to Train and Test\n",
    "2. Split data to Train and Validation"
   ]
  },
  {
   "cell_type": "code",
   "execution_count": 7,
   "id": "1099d12b",
   "metadata": {},
   "outputs": [],
   "source": [
    "from sklearn.model_selection import train_test_split\n",
    "\n",
    "# Training and Test Split\n",
    "X_train,X_test, y_train, y_test = train_test_split(X,y, random_state=42, test_size=0.2, stratify=y)\n",
    "\n",
    "# Training and Validation Split\n",
    "X_train,X_val, y_train, y_val = train_test_split(X_train,y_train, random_state=42, test_size=0.1, stratify=y_train)"
   ]
  },
  {
   "cell_type": "markdown",
   "id": "078acbdc",
   "metadata": {},
   "source": [
    "**3.Vectorization Of Training Data**"
   ]
  },
  {
   "cell_type": "code",
   "execution_count": 8,
   "id": "4e6e3ed2",
   "metadata": {},
   "outputs": [],
   "source": [
    "from keras import layers\n",
    "vocab_size = 30000\n",
    "seq_len = 256\n",
    "vectorizer = layers.TextVectorization(\n",
    "    max_tokens= vocab_size,\n",
    "    output_sequence_length=seq_len,\n",
    "    output_mode='int',\n",
    "    standardize= 'lower_and_strip_punctuation'\n",
    ")\n",
    "\n",
    "vectorizer.adapt(X_train)"
   ]
  },
  {
   "cell_type": "markdown",
   "id": "0960c727",
   "metadata": {},
   "source": [
    "**4. tf.data Pipelines**"
   ]
  },
  {
   "cell_type": "code",
   "execution_count": 9,
   "id": "2bcad70e",
   "metadata": {},
   "outputs": [],
   "source": [
    "batch_size = 64\n",
    "AUTOTUNE = tf.data.AUTOTUNE\n",
    "\n",
    "def make_ds(texts, labels, training=False):\n",
    "\n",
    "    ds = tf.data.Dataset.from_tensor_slices((texts, labels))\n",
    "    if training:\n",
    "        ds = ds.shuffle(8192, reshuffle_each_iteration=True)\n",
    "    ds = ds.batch(batch_size).prefetch(AUTOTUNE)\n",
    "\n",
    "    return ds\n",
    "\n",
    "train_ds = make_ds(X_train, y_train , training=True)\n",
    "val_ds = make_ds(X_val, y_val)\n",
    "test_ds = make_ds(X_test,y_test)"
   ]
  },
  {
   "cell_type": "markdown",
   "id": "107e6923",
   "metadata": {},
   "source": [
    "**5. Model**\n",
    "\n",
    "`Text --> Vectorize --> Embedding --> BiLSTM --> Dense`"
   ]
  },
  {
   "cell_type": "code",
   "execution_count": 10,
   "id": "d621b8e3",
   "metadata": {},
   "outputs": [],
   "source": [
    "from keras import Input, models\n",
    "\n",
    "inputs = Input(shape=(), dtype=tf.string)\n",
    "x = vectorizer(inputs)\n",
    "x = layers.Embedding(vocab_size,128,mask_zero=True )(x)\n",
    "\n",
    "x = layers.Bidirectional(layers.LSTM(64))(x)\n",
    "\n",
    "x = layers.Dropout(0.3)(x)\n",
    "\n",
    "outputs = layers.Dense(1, activation='sigmoid')(x)\n",
    "\n",
    "model = models.Model(inputs,outputs)\n",
    "\n",
    "model.compile(\n",
    "    optimizer=\"adam\",\n",
    "    loss=\"binary_crossentropy\",\n",
    "    metrics = ['accuracy']\n",
    ")\n"
   ]
  },
  {
   "cell_type": "markdown",
   "id": "602a3d3b",
   "metadata": {},
   "source": [
    "**6. Train with early stopping**"
   ]
  },
  {
   "cell_type": "code",
   "execution_count": 11,
   "id": "73823610",
   "metadata": {},
   "outputs": [
    {
     "name": "stdout",
     "output_type": "stream",
     "text": [
      "Epoch 1/8\n",
      "\u001b[1m558/558\u001b[0m \u001b[32m━━━━━━━━━━━━━━━━━━━━\u001b[0m\u001b[37m\u001b[0m \u001b[1m243s\u001b[0m 426ms/step - accuracy: 0.8291 - loss: 0.3775 - val_accuracy: 0.8747 - val_loss: 0.2919\n",
      "Epoch 2/8\n",
      "\u001b[1m558/558\u001b[0m \u001b[32m━━━━━━━━━━━━━━━━━━━━\u001b[0m\u001b[37m\u001b[0m \u001b[1m237s\u001b[0m 424ms/step - accuracy: 0.9271 - loss: 0.1949 - val_accuracy: 0.8692 - val_loss: 0.3110\n",
      "Epoch 3/8\n",
      "\u001b[1m558/558\u001b[0m \u001b[32m━━━━━━━━━━━━━━━━━━━━\u001b[0m\u001b[37m\u001b[0m \u001b[1m248s\u001b[0m 444ms/step - accuracy: 0.9602 - loss: 0.1116 - val_accuracy: 0.8505 - val_loss: 0.3782\n"
     ]
    }
   ],
   "source": [
    "from keras import callbacks\n",
    "Callbacks = [\n",
    "    callbacks.EarlyStopping(monitor='val_loss', patience=2,restore_best_weights=True)\n",
    "]\n",
    "\n",
    "history = model.fit(\n",
    "    train_ds,\n",
    "    validation_data=val_ds,\n",
    "    epochs=8,\n",
    "    callbacks=Callbacks,\n",
    "    verbose=1\n",
    ")"
   ]
  },
  {
   "cell_type": "code",
   "execution_count": 12,
   "id": "a17372a6",
   "metadata": {},
   "outputs": [
    {
     "name": "stdout",
     "output_type": "stream",
     "text": [
      "\u001b[1m155/155\u001b[0m \u001b[32m━━━━━━━━━━━━━━━━━━━━\u001b[0m\u001b[37m\u001b[0m \u001b[1m15s\u001b[0m 93ms/step\n",
      "              precision    recall  f1-score   support\n",
      "\n",
      "    negative       0.84      0.92      0.88      4940\n",
      "    positive       0.92      0.83      0.87      4977\n",
      "\n",
      "    accuracy                           0.88      9917\n",
      "   macro avg       0.88      0.88      0.88      9917\n",
      "weighted avg       0.88      0.88      0.88      9917\n",
      "\n",
      "Confusion Matrix:\n",
      " [[4563  377]\n",
      " [ 847 4130]]\n"
     ]
    }
   ],
   "source": [
    "from sklearn.metrics import classification_report, confusion_matrix\n",
    "import numpy as np\n",
    "\n",
    "# Get raw predictions\n",
    "y_pred_probs = model.predict(test_ds)\n",
    "y_pred = (y_pred_probs > 0.5).astype(\"int32\").flatten()\n",
    "\n",
    "# True labels (test_ds is batched, so we need to collect them)\n",
    "y_true = np.concatenate([y for _, y in test_ds], axis=0)\n",
    "\n",
    "# Metrics\n",
    "print(classification_report(y_true, y_pred, target_names=[\"negative\", \"positive\"]))\n",
    "\n",
    "print(\"Confusion Matrix:\\n\", confusion_matrix(y_true, y_pred))\n"
   ]
  },
  {
   "cell_type": "code",
   "execution_count": 13,
   "id": "d55cd9e5",
   "metadata": {},
   "outputs": [
    {
     "name": "stdout",
     "output_type": "stream",
     "text": [
      "\u001b[1m1/1\u001b[0m \u001b[32m━━━━━━━━━━━━━━━━━━━━\u001b[0m\u001b[37m\u001b[0m \u001b[1m0s\u001b[0m 449ms/step\n",
      "This movie was amazing! → positive (0.80)\n",
      "Terrible acting, complete waste of time. → negative (0.00)\n",
      "It was okay, not great but not awful either. → negative (0.03)\n"
     ]
    }
   ],
   "source": [
    "import tensorflow as tf\n",
    "\n",
    "texts = tf.constant([\n",
    "    \"This movie was amazing!\",\n",
    "    \"Terrible acting, complete waste of time.\",\n",
    "    \"It was okay, not great but not awful either.\"\n",
    "])\n",
    "\n",
    "pred_probs = model.predict(texts).flatten()\n",
    "\n",
    "for t, p in zip(texts.numpy(), pred_probs):   # convert tf back to numpy for printing\n",
    "    label = \"positive\" if p > 0.5 else \"negative\"\n",
    "    print(f\"{t.decode('utf-8')} → {label} ({p:.2f})\")\n"
   ]
  },
  {
   "cell_type": "code",
   "execution_count": null,
   "id": "303965b4",
   "metadata": {},
   "outputs": [],
   "source": []
  }
 ],
 "metadata": {
  "kernelspec": {
   "display_name": "sentiment_env",
   "language": "python",
   "name": "python3"
  },
  "language_info": {
   "codemirror_mode": {
    "name": "ipython",
    "version": 3
   },
   "file_extension": ".py",
   "mimetype": "text/x-python",
   "name": "python",
   "nbconvert_exporter": "python",
   "pygments_lexer": "ipython3",
   "version": "3.11.13"
  }
 },
 "nbformat": 4,
 "nbformat_minor": 5
}
